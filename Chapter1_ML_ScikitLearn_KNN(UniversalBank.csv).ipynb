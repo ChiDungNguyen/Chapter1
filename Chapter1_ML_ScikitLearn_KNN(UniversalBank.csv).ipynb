{
 "cells": [
  {
   "cell_type": "markdown",
   "metadata": {},
   "source": [
    "# Chapter 1: \n",
    "\n",
    "# Machine Learning với Scikit-Learn: KNN Model\n",
    "\n",
    "Chương 1 tương ứng với chương 7 của cuốn [Data Mining for Business Analytics: Concepts, Techniques, and Applications in R](https://www.amazon.com/gp/product/1118879368/ref=dbs_a_def_rwt_bibl_vppi_i0) nhưng công cụ được sử dụng là Python. Bộ dữ liệu được sử dụng là UniversalBank.csv được download từ website của cuốn sách trên.  \n",
    "\n",
    "Chương này hướng dẫn cách xây dựng - huấn luyện một mô hình học máy bằng thư viện Scikit-Learn của Python - một tool được sử dụng rộng rãi nhất cho Machine Learning, Data Mining và Data Science. Mô hình KNN - một mô hình học máy đơn giản nhất với chỉ một tham số là số láng giềng gần nhất K được lựa chọn cho mục đích minh họa. \n",
    "\n",
    "Là một tài liệu được viết theo hướng cầm tay chỉ việc định hướng thực hành với các bộ số liệu nhỏ - các dự án nhỏ (Hands-on Project) nên khía cạnh lí thuyết sẽ không được đề cập. Bạn đọc quan tâm về khía cạnh lí thuyết thì có thể tham khảo ở các tài liệu khác. \n",
    "\n",
    "Mục tiêu của chương: \n",
    "\n",
    "1. Trình bày tổng quan các bước xây dựng - huấn luyện một mô hình học máy (Machine Learning Model). \n",
    "2. Sử dụng thư viện Scikit-Learn của Python để huấn luyện mô hình học máy. \n"
   ]
  },
  {
   "cell_type": "markdown",
   "metadata": {},
   "source": [
    "\n",
    "\n",
    "# 1.1 Huấn luyện một mô hình học máy\n",
    "\n",
    "Giả sử rằng chúng ta đã có dữ liệu, để huấn luyện một mô hinh học máy (training a machine learning model) nhìn chung phải qua các bước theo thứ tự như sau: \n",
    "\n",
    "### Phân tích khám phá EDA (Exploratory Data Analysis). \n",
    "\n",
    "Đây là bước phân tích sơ bộ ban đầu hướng vào các mục đích thăm dò và khám phá sơ bộ dữ liệu để hiểu về loại dữ liệu (định tính, định lượng), đánh giá chất lượng của dữ liệu như mức độ thiếu của dữ liệu hoặc các giá trị bất thường. Ngoài ra ở bước này cũng thường thực hiện một số phân tích thống kê hoặc sử dụng các công cụ hình ảnh hóa dữ liệu (data visualization) nhằm đánh giá sơ bộ sự liên hệ (như tương quan) giữa các biến, hoặc đánh giá các đặc điểm thống kê của biến số. \n",
    "\n",
    "Bước EDA này rất quan trọng vì nó sẽ là căn cứ ban đầu để chúng ta lựa chọn và thực hiện những bước chuẩn bị tiếp theo. \n",
    "\n",
    "### Tiền xử lí số liệu (Data pre-processing). \n",
    "Bước EDA được thực hiện ở trên sẽ cho chúng ta những căn cứ để thực hiện công việc tiền xử lí số liệu. Một số mô hình học máy (hoặc thuật toán) có thể không chấp nhận các biến đầu vào của mô hình nếu chúng là biến định tính và do vậy chúng ta cần chuyển hóa các biến định tính này về biến giả kiểu 0 – 1 chẳng hạn. Tương tự là xử lí dữ liệu thiếu (Missing Data) – một thực tế rất phổ biến. Hầu hết các mô hình học máy không chấp nhận dữ liệu thiếu và do đó chúng ta có thể cần phải thay thế những điểm dữ liệu thiếu bằng mean hoặc median của các quan sát còn lại. \n",
    "\n",
    "Bước tiền xử lí số liệu là bước vô cùng quan trọng của việc huấn luyện (xây dựng) một mô hình học máy. \n",
    "\n",
    "### Feature Engineering (FE). \n",
    "\n",
    "Trong nhiều tình huống ngay cả khi dữ liệu chúng ta có trong tay là đẹp nhất có thể được (không missing chẳng hạn) thì chúng ta vẫn cần phải biến đổi các biến đầu vào (các tên gọi khác là variables, inputs hoặc features) theo một cách thức nào đó để hiệu quả dự báo của mô hình học máy là cao nhất có thể. Chẳng hạn một trong những kĩ thuật đó là chuẩn hóa min – max (hay còn gọi là chuẩn hóa 0 – 1) cho các mô hình học máy vì rằng nhiều mô hình học máy (như K Nearest Neighbor – KNN) rất nhạy cảm với thang đo của các features. Việc chuẩn hóa min – max cho KNN có thể nâng cao đáng kể chất lượng dự báo của mô hình này. \n",
    "\n",
    "FE cũng còn có thể là việc tạo ra một feature mới từ một hay nhiều biến biến số ban đầu mà sự có mặt của feature mới này sẽ tăng chất lượng dự báo của mô hình ML. Ngược lại thì FE cũng còn có thể là việc chúng ta không sử dụng một biến số nào đó trong mô hình. Chẳng hạn với mô hình phân loại hồ sơ tín dụng thì số chứng minh thư của người xin vay hầu như chắc chắn không có ảnh hưởng gì đến khả năng phân loại của mô hình tín dụng. Các mô hình ML thường mất nhiều thời gian để huấn luyện đặc biệt là trong trường hợp bộ dữ liệu có kích thước lớn, nhiều quan sát do vậy bỏ đi những biến không cần thiết cũng có thể giảm đáng kể thời gian huấn luyện. \n",
    "\n",
    "### Phân chia dữ liệu (Spliting Data). \n",
    "\n",
    "Bộ dữ liệu cuối cùng sẽ được phân chia thành hai phần. Một phần để huấn luyện mô hình học máy đã chọn (gọi là training set hay train data). Phần còn lại sẽ được sử dụng để đánh giá chất lượng dự báo của mô hình học máy đã chọn (gọi là testing set hay test data). \n",
    "\n",
    "Phân chia dữ liệu phải được thực hiện sao cho các đặc điểm thống kê của bộ dữ liệu train data và test data phải được bảo toàn hoặc chí ít là tương đồng nhau. Ví dụ, nếu tỉ lệ hồ sơ xấu (hiểu theo nghĩa là không được duyệt vay tín dụng) là 10% thì khi phân chia dữ liệu, tỉ lệ hồ sơ xấu ở test data và train data cũng phải là xấp xỉ 10% (trong trường hợp lí tưởng thì tỉ lệ này sẽ là 10% đối với train data và test data). \n",
    "\n",
    "### Huấn luyện và tinh chỉnh tham số \n",
    "\n",
    "Sau khi đã có train data và test data là quá trình huấn luyện mô hình (hay thường nói là “chạy” mô hình). Huấn luyện mô hình thường được kết hợp với tinh chỉnh tham số. \n",
    "\n",
    "Hầu hết các mô hình ML có những tham số mà giá trị của chúng ảnh hưởng trực tiếp đến chất lượng dự báo của mô hình và giá trị tối ưu của chúng – hiểu theo nghĩa là giá trị của tham số sao cho chất lượng dự báo của mô hình là tốt nhất – thì không có công thức hay lí thuyết nào chỉ ra mà chỉ có thể tìm dựa trên thử nghiệm với dữ liệu. Những tham số này được gọi là Hyper-Parameters. Việc tìm kiếm tham số tối ưu cho mô hình học máy được gọi là quá trình tinh chỉnh tham số. \n",
    "\n",
    "### Đánh giá mô hình\n",
    "\n",
    "Khi nói rằng “một mô hình tốt” hoặc so sánh các mô hình khác nhau thì chúng ta phải lựa chọn một tiêu chuẩn (hay một thước đo) nào đó để so sánh. Với công việc dự báo giá nhà thì tiêu chuẩn đó có thể là RMSE. Với bài dự báo bệnh nhân nào bị ung thư vú dựa trên kết quả xét nghiệm sinh hóa thì tiêu chuẩn hàng đầu là Sensitivity – thước đo đánh giá mức độ phát hiện những người bị ung thư thực sự. Còn với bài toán phân loại hồ sơ tín dụng thì tiêu chuẩn đó có thể là ROC/AUC hoặc lợi nhuận. \n"
   ]
  },
  {
   "cell_type": "markdown",
   "metadata": {},
   "source": [
    "# 1.2 K-Nearest Neighbors với Scikit-Learn\n",
    "\n",
    "Mô hình K-Nearest Neighbors (viết tắt là KNN Model) có thể được sử dụng cho cả bài toán hồi quy (Regression Task) và phân loại (Classification). Với mục đích giới thiệu cách thức sử dụng Scikit-Learn, mục này sẽ chỉ hướng vào mục đích hướng dẫn sử dụng Sciki-Learn cho huấn luyện một mô hình học máy cụ thể là KNN mà không trình bày toàn bộ các bước xây dựng - huấn luyện. Các bước như EDA, FE sẽ được trình bày chi tiết ở các chương sau. \n",
    "\n",
    "### KNN cho bài toán phân loại\n",
    "\n",
    "Trước hết chúng ta cần đọc bộ dữ liệu *UniversalBank.csv* bằng hàm read_csv() của thư viện pandas rồi thực hiện xử lí số liệu, chuẩn bị dữ liệu cho huấn luyện KNN."
   ]
  },
  {
   "cell_type": "code",
   "execution_count": 1,
   "metadata": {},
   "outputs": [],
   "source": [
    "# Load thư viện pandas: \n",
    "import pandas as pd"
   ]
  },
  {
   "cell_type": "code",
   "execution_count": 2,
   "metadata": {},
   "outputs": [],
   "source": [
    "# Đọc dữ liệu vào Python: \n",
    "df_bank = pd.read_csv(\"C:/Users/Zbook/Desktop/DataMining/dmba/UniversalBank.csv\")"
   ]
  },
  {
   "cell_type": "code",
   "execution_count": 3,
   "metadata": {},
   "outputs": [
    {
     "data": {
      "text/html": [
       "<div>\n",
       "<style scoped>\n",
       "    .dataframe tbody tr th:only-of-type {\n",
       "        vertical-align: middle;\n",
       "    }\n",
       "\n",
       "    .dataframe tbody tr th {\n",
       "        vertical-align: top;\n",
       "    }\n",
       "\n",
       "    .dataframe thead th {\n",
       "        text-align: right;\n",
       "    }\n",
       "</style>\n",
       "<table border=\"1\" class=\"dataframe\">\n",
       "  <thead>\n",
       "    <tr style=\"text-align: right;\">\n",
       "      <th></th>\n",
       "      <th>ID</th>\n",
       "      <th>Age</th>\n",
       "      <th>Experience</th>\n",
       "      <th>Income</th>\n",
       "      <th>ZIP Code</th>\n",
       "      <th>Family</th>\n",
       "      <th>CCAvg</th>\n",
       "      <th>Education</th>\n",
       "      <th>Mortgage</th>\n",
       "      <th>Personal Loan</th>\n",
       "      <th>Securities Account</th>\n",
       "      <th>CD Account</th>\n",
       "      <th>Online</th>\n",
       "      <th>CreditCard</th>\n",
       "    </tr>\n",
       "  </thead>\n",
       "  <tbody>\n",
       "    <tr>\n",
       "      <th>0</th>\n",
       "      <td>1</td>\n",
       "      <td>25</td>\n",
       "      <td>1</td>\n",
       "      <td>49</td>\n",
       "      <td>91107</td>\n",
       "      <td>4</td>\n",
       "      <td>1.6</td>\n",
       "      <td>1</td>\n",
       "      <td>0</td>\n",
       "      <td>0</td>\n",
       "      <td>1</td>\n",
       "      <td>0</td>\n",
       "      <td>0</td>\n",
       "      <td>0</td>\n",
       "    </tr>\n",
       "    <tr>\n",
       "      <th>1</th>\n",
       "      <td>2</td>\n",
       "      <td>45</td>\n",
       "      <td>19</td>\n",
       "      <td>34</td>\n",
       "      <td>90089</td>\n",
       "      <td>3</td>\n",
       "      <td>1.5</td>\n",
       "      <td>1</td>\n",
       "      <td>0</td>\n",
       "      <td>0</td>\n",
       "      <td>1</td>\n",
       "      <td>0</td>\n",
       "      <td>0</td>\n",
       "      <td>0</td>\n",
       "    </tr>\n",
       "    <tr>\n",
       "      <th>2</th>\n",
       "      <td>3</td>\n",
       "      <td>39</td>\n",
       "      <td>15</td>\n",
       "      <td>11</td>\n",
       "      <td>94720</td>\n",
       "      <td>1</td>\n",
       "      <td>1.0</td>\n",
       "      <td>1</td>\n",
       "      <td>0</td>\n",
       "      <td>0</td>\n",
       "      <td>0</td>\n",
       "      <td>0</td>\n",
       "      <td>0</td>\n",
       "      <td>0</td>\n",
       "    </tr>\n",
       "  </tbody>\n",
       "</table>\n",
       "</div>"
      ],
      "text/plain": [
       "   ID  Age  Experience  Income  ZIP Code  Family  CCAvg  Education  Mortgage  \\\n",
       "0   1   25           1      49     91107       4    1.6          1         0   \n",
       "1   2   45          19      34     90089       3    1.5          1         0   \n",
       "2   3   39          15      11     94720       1    1.0          1         0   \n",
       "\n",
       "   Personal Loan  Securities Account  CD Account  Online  CreditCard  \n",
       "0              0                   1           0       0           0  \n",
       "1              0                   1           0       0           0  \n",
       "2              0                   0           0       0           0  "
      ]
     },
     "execution_count": 3,
     "metadata": {},
     "output_type": "execute_result"
    }
   ],
   "source": [
    "# Xem qua dữ liệu: \n",
    "df_bank.head(n=3)"
   ]
  },
  {
   "cell_type": "markdown",
   "metadata": {},
   "source": [
    "Có thể cho rằng biến ID và ZIP Code không tác động đến khả năng khách hàng được vay hay không và do đó chúng ta có thể loại biến này như sau: "
   ]
  },
  {
   "cell_type": "code",
   "execution_count": 4,
   "metadata": {},
   "outputs": [],
   "source": [
    "# Bỏ biến ID và ZIP Code: \n",
    "my_df_binary = df_bank.drop([\"ID\", \"ZIP Code\"], axis=1)"
   ]
  },
  {
   "cell_type": "code",
   "execution_count": 5,
   "metadata": {},
   "outputs": [],
   "source": [
    "#========================================\n",
    "#  Chuẩn bị dữ liệu cho huấn luyện KNN\n",
    "#========================================\n",
    "\n",
    "# Tách ra inputs - output: \n",
    "Y = my_df_binary[\"Personal Loan\"]\n",
    "X = my_df_binary.drop(\"Personal Loan\", 1)\n",
    "\n",
    "# Phân chia dữ liệu theo tỉ lệ 60 - 40 tương ứng với train và test data: \n",
    "from sklearn.model_selection import train_test_split\n",
    "X_train, X_test, y_train, y_test = train_test_split(X, Y, test_size = 0.4, random_state = 29, stratify = Y)"
   ]
  },
  {
   "cell_type": "markdown",
   "metadata": {},
   "source": [
    "Sau bước chuẩn bị dữ liệu ở trên chúng ta có thể thực hiện huấn luyện môt mô hình học máy - trong tình huống này là KNN theo ba bước được mô tả dưới đây bằng sử dụng Scikit-Learn. "
   ]
  },
  {
   "cell_type": "code",
   "execution_count": 6,
   "metadata": {},
   "outputs": [],
   "source": [
    "# Gọi KNeighborsClassifier từ thư viện Scikit-Learn (bước 1): \n",
    "from sklearn.neighbors import KNeighborsClassifier"
   ]
  },
  {
   "cell_type": "code",
   "execution_count": 7,
   "metadata": {},
   "outputs": [],
   "source": [
    "# Kích hoạt KNN với K được lựa chọn là 1 (bước 2):  \n",
    "knn1 = KNeighborsClassifier(n_neighbors=1)"
   ]
  },
  {
   "cell_type": "code",
   "execution_count": 8,
   "metadata": {},
   "outputs": [
    {
     "data": {
      "text/plain": [
       "KNeighborsClassifier(algorithm='auto', leaf_size=30, metric='minkowski',\n",
       "                     metric_params=None, n_jobs=None, n_neighbors=1, p=2,\n",
       "                     weights='uniform')"
      ]
     },
     "execution_count": 8,
     "metadata": {},
     "output_type": "execute_result"
    }
   ],
   "source": [
    "# Huấn luyện KNN với K = 1 trên bộ dữ liệu train: \n",
    "knn1.fit(X_train, y_train)"
   ]
  },
  {
   "cell_type": "markdown",
   "metadata": {},
   "source": [
    "Với mô hình KNN đã được huấn luyện chúng ta có thể sử dụng nó để thực hiện dự báo trên bộ test: "
   ]
  },
  {
   "cell_type": "code",
   "execution_count": 9,
   "metadata": {},
   "outputs": [],
   "source": [
    "# Sử dụng KNN cho dự báo: \n",
    "my_predictions = knn1.predict(X_test)"
   ]
  },
  {
   "cell_type": "code",
   "execution_count": 10,
   "metadata": {},
   "outputs": [
    {
     "data": {
      "text/plain": [
       "array([0, 1, 1, 0, 1, 0, 0, 1, 0], dtype=int64)"
      ]
     },
     "execution_count": 10,
     "metadata": {},
     "output_type": "execute_result"
    }
   ],
   "source": [
    "# Chúng ta có thể xem kết quả dự báo cho 10 quan sát đầu: \n",
    "my_predictions[1:10]"
   ]
  },
  {
   "cell_type": "markdown",
   "metadata": {},
   "source": [
    "Chú ý rằng các dự báo ở trên là sử dụng ngưỡng mặc định 0.5 để phân loại. Nếu chúng ta sử dụng một ngưỡng khác để phân loại thì kết quả sẽ khác. Nếu muốn dự báo xác suất cho sự kiện \"chấp nhận vay\" thì chúng ta có thể làm như sau: "
   ]
  },
  {
   "cell_type": "code",
   "execution_count": 11,
   "metadata": {},
   "outputs": [],
   "source": [
    "# Tính toán Probability of Default (PD): \n",
    "pred_prob = knn1.predict_proba(X_test)"
   ]
  },
  {
   "cell_type": "markdown",
   "metadata": {},
   "source": [
    "Với kết quả PD dự báo ở trên chúng ta có thể, ví dụ, chuyển về Data Frame để sử dụng cho các mục đích phân tích xa hơn như sau:\n",
    "    "
   ]
  },
  {
   "cell_type": "code",
   "execution_count": 12,
   "metadata": {},
   "outputs": [
    {
     "data": {
      "text/html": [
       "<div>\n",
       "<style scoped>\n",
       "    .dataframe tbody tr th:only-of-type {\n",
       "        vertical-align: middle;\n",
       "    }\n",
       "\n",
       "    .dataframe tbody tr th {\n",
       "        vertical-align: top;\n",
       "    }\n",
       "\n",
       "    .dataframe thead th {\n",
       "        text-align: right;\n",
       "    }\n",
       "</style>\n",
       "<table border=\"1\" class=\"dataframe\">\n",
       "  <thead>\n",
       "    <tr style=\"text-align: right;\">\n",
       "      <th></th>\n",
       "      <th>0</th>\n",
       "      <th>1</th>\n",
       "    </tr>\n",
       "  </thead>\n",
       "  <tbody>\n",
       "    <tr>\n",
       "      <th>0</th>\n",
       "      <td>1.0</td>\n",
       "      <td>0.0</td>\n",
       "    </tr>\n",
       "    <tr>\n",
       "      <th>1</th>\n",
       "      <td>1.0</td>\n",
       "      <td>0.0</td>\n",
       "    </tr>\n",
       "    <tr>\n",
       "      <th>2</th>\n",
       "      <td>0.0</td>\n",
       "      <td>1.0</td>\n",
       "    </tr>\n",
       "    <tr>\n",
       "      <th>3</th>\n",
       "      <td>0.0</td>\n",
       "      <td>1.0</td>\n",
       "    </tr>\n",
       "    <tr>\n",
       "      <th>4</th>\n",
       "      <td>1.0</td>\n",
       "      <td>0.0</td>\n",
       "    </tr>\n",
       "  </tbody>\n",
       "</table>\n",
       "</div>"
      ],
      "text/plain": [
       "     0    1\n",
       "0  1.0  0.0\n",
       "1  1.0  0.0\n",
       "2  0.0  1.0\n",
       "3  0.0  1.0\n",
       "4  1.0  0.0"
      ]
     },
     "execution_count": 12,
     "metadata": {},
     "output_type": "execute_result"
    }
   ],
   "source": [
    "# Chuyển về Data Frame: \n",
    "df_pred_prob = pd.DataFrame(pred_prob)\n",
    "\n",
    "# Xem qua 5 quan sát đầu: \n",
    "df_pred_prob.head(n=5)"
   ]
  },
  {
   "cell_type": "code",
   "execution_count": 13,
   "metadata": {},
   "outputs": [
    {
     "data": {
      "text/plain": [
       "array([[1728,   80],\n",
       "       [ 114,   78]], dtype=int64)"
      ]
     },
     "execution_count": 13,
     "metadata": {},
     "output_type": "execute_result"
    }
   ],
   "source": [
    "# Đánh giá chất lượng dự báo của mô hình với ma trận nhầm lẫn: \n",
    "from sklearn.metrics import confusion_matrix\n",
    "confusion_matrix(y_test, my_predictions)"
   ]
  },
  {
   "cell_type": "code",
   "execution_count": 14,
   "metadata": {},
   "outputs": [
    {
     "data": {
      "text/plain": [
       "0.903"
      ]
     },
     "execution_count": 14,
     "metadata": {},
     "output_type": "execute_result"
    }
   ],
   "source": [
    "# Chúng ta có thể tính toán Accuracy - một thước đo đánh giá mô hình phân loại như sau: \n",
    "knn1.score(X_test, y_test) # Cách 1."
   ]
  },
  {
   "cell_type": "markdown",
   "metadata": {},
   "source": [
    "Kết quả này có nghĩa là mô hình phân loại chính xác 90.30% chung cho cả hai nhóm \"chấp nhận vay\" và \"không chấp nhận vay\". Để đánh giá xem mô hình này có đủ tốt để sử dụng hay không trước hết ta cần xem tỉ lệ (hay phân phối) của các nhãn của biến được phân loại. Nhóm chiếm đa số (nhãn 0) là 90.40%: "
   ]
  },
  {
   "cell_type": "code",
   "execution_count": 15,
   "metadata": {},
   "outputs": [
    {
     "data": {
      "text/plain": [
       "0    0.904\n",
       "1    0.096\n",
       "Name: Personal Loan, dtype: float64"
      ]
     },
     "execution_count": 15,
     "metadata": {},
     "output_type": "execute_result"
    }
   ],
   "source": [
    "y_test.value_counts() / len(y_test)"
   ]
  },
  {
   "cell_type": "markdown",
   "metadata": {},
   "source": [
    "Không cần mô hình gì, bằng cách dán cho tất cả các cases có nhãn là 0 thì ít nhất chúng ta cũng có Accuracy = 90.40%. Nói cách khác, một mô hình \"không gì hết\" chúng ta cũng có Accuracy cao hơn mô hình KNN. Một mô hình có thể sử dụng được thì ít nhất Accuracy của mô hình cũng phải cao hơn nhãn chiếm đa số. Tỉ lệ của nhãn chiếm đa số thường được lựa chọn như là tiêu chuẩn tối thiểu (Base Line) cho mô hình. \n",
    "\n",
    "Chúng ta có thể cải thiện khả năng dự báo của mô hình KNN bằng tinh chỉnh tham số để tìm ra tham số tối ưu - trong trường hợp của mô hình KNN - là số láng giềng K. Phần này sẽ được trình bày trong các chương sau. "
   ]
  },
  {
   "cell_type": "markdown",
   "metadata": {},
   "source": [
    "# 1.3 Cú pháp sử dụng Sciki-Learn\n",
    "\n",
    "Thông qua quá trình huấn luyện một mô hình học máy ở trên thì dưới đây là các điểm quan trọng cần lưu ý khi sử dụng Scikit-Learn. \n",
    "\n",
    "*Thứ nhất*, để sử dụng một mô hình học máy nào đó **chúng ta phải \"gọi\" mô hình đó** từ thư viện Scikit-Learn. Ví dụ, để sử dụng mô hình KNN: "
   ]
  },
  {
   "cell_type": "code",
   "execution_count": 16,
   "metadata": {},
   "outputs": [],
   "source": [
    "# Gọi KNeighborsClassifier từ thư viện Scikit-Learn: \n",
    "from sklearn.neighbors import KNeighborsClassifier"
   ]
  },
  {
   "cell_type": "markdown",
   "metadata": {},
   "source": [
    "Còn để sử dụng mô hình Logistic (lưu ý đây không phải là một mô hình ML) thì cú pháp sẽ là: "
   ]
  },
  {
   "cell_type": "code",
   "execution_count": 17,
   "metadata": {},
   "outputs": [],
   "source": [
    "# Gọi LogisticRegression từ thư viện Scikit-Learn: \n",
    "from sklearn.linear_model import LogisticRegression"
   ]
  },
  {
   "cell_type": "markdown",
   "metadata": {},
   "source": [
    "Theo ngôn ngữ chuyên môn thì KNeighborsClassifier và LogisticRegression được gọi là các estimators vì rằng tất cả các thuật toán / mô hình của Scikit-Learn được thực hiện như là các lớp (classes). "
   ]
  },
  {
   "cell_type": "markdown",
   "metadata": {},
   "source": [
    "*Thứ hai*, sau khi load một estimator được chọn nào đó (ví dụ KNeighborsClassifier cho mô hình KNN) thì chúng ta cần khởi động/kích hoạt (instantiate) estimator này với số láng giềng K được chọn là 1 như sau:  "
   ]
  },
  {
   "cell_type": "code",
   "execution_count": 18,
   "metadata": {},
   "outputs": [],
   "source": [
    "# Kích hoạt estimator: \n",
    "knn1 = KNeighborsClassifier(n_neighbors=1)"
   ]
  },
  {
   "cell_type": "markdown",
   "metadata": {},
   "source": [
    "Cũng như R, Python là một ngôn ngữ hướng đối tượng OOP (object-oriented programming) và do vậy *KNeighborsClassifier(n_neighbors=1)* cũng là một object và chúng ta đặt tên cho object này là knn1 với hàm ý rằng mô hình KNN với K = 1. "
   ]
  },
  {
   "cell_type": "markdown",
   "metadata": {},
   "source": [
    "*Thứ ba*, sau khi kích hoạt một estimator (có thể hiểu là kích hoạt một mô hình), chúng ta có thể huấn luyện mô hình đã chọn nwh sau: \n"
   ]
  },
  {
   "cell_type": "code",
   "execution_count": 19,
   "metadata": {},
   "outputs": [
    {
     "data": {
      "text/plain": [
       "KNeighborsClassifier(algorithm='auto', leaf_size=30, metric='minkowski',\n",
       "                     metric_params=None, n_jobs=None, n_neighbors=1, p=2,\n",
       "                     weights='uniform')"
      ]
     },
     "execution_count": 19,
     "metadata": {},
     "output_type": "execute_result"
    }
   ],
   "source": [
    "# Huấn luyện KNN với K = 1 trên bộ dữ liệu train: \n",
    "knn1.fit(X_train, y_train)"
   ]
  },
  {
   "cell_type": "markdown",
   "metadata": {},
   "source": [
    "Thuật ngữ tiếng Anh là sử dụng **fit method** để huấn luyện mô hình. Khi huấn luyện mô hình thì **knn1.fit()** yêu cầu hai agruments là: (1) inputs/features, và (2) biến đích. Trong trường hợp của chúng ta thì features ở đây là bộ dữ liệu X_train còn biến đích (hay biến phụ thuộc theo cách gọi của kinh tế lượng chẳng hạn) là y_train. Cả X_train lẫn y_train là những dữ liệu mà chúng ta đã chuẩn bị ở trên. "
   ]
  },
  {
   "cell_type": "markdown",
   "metadata": {},
   "source": [
    "# 1.4 Method Chaining\n",
    "\n",
    "Ở trên chúng ta thấy rằng các bước kích hoạt, huấn luyện và thực hiện dự báo được thực hiện theo từng giai đoạn riêng rẽ với nhau (ít nhất là về mặt hình thức). Tuy nhiên chúng ta có thể thực hiện cả ba bước này chỉ bằng một dòng lệnh theo phương pháp Method Chaining như sau: "
   ]
  },
  {
   "cell_type": "code",
   "execution_count": 20,
   "metadata": {},
   "outputs": [],
   "source": [
    "pred_chaining = KNeighborsClassifier(n_neighbors=1).fit(X_train, y_train).predict(X_test)"
   ]
  },
  {
   "cell_type": "code",
   "execution_count": 21,
   "metadata": {},
   "outputs": [
    {
     "data": {
      "text/plain": [
       "array([0, 0, 0, 0, 1, 0, 0, 1, 1], dtype=int64)"
      ]
     },
     "execution_count": 21,
     "metadata": {},
     "output_type": "execute_result"
    }
   ],
   "source": [
    "# So sánh để thấy rằng kết quả không có gì thay đổi ngoại trừ hình thức trình bày: \n",
    "pred_chaining[1:10] "
   ]
  },
  {
   "cell_type": "code",
   "execution_count": 22,
   "metadata": {},
   "outputs": [
    {
     "data": {
      "text/plain": [
       "array([0, 0, 0, 0, 1, 0, 0, 1, 1], dtype=int64)"
      ]
     },
     "execution_count": 22,
     "metadata": {},
     "output_type": "execute_result"
    }
   ],
   "source": [
    "my_predictions[1:10]"
   ]
  },
  {
   "cell_type": "markdown",
   "metadata": {},
   "source": [
    "Với những người sử dụng R và quen thuộc với toán tử Pipe (kí hiệu %>%) thì Method Chaining đóng vai trò tương tự như toán tử Pipe. Ở đây dấu chấm (.) đóng vai trò như là toán tử pipe (%>%) trong ngôn ngữ R. Cách thức trình bày này có thể ngắn gọn nhưng không nên lạm dụng vì trong quá trình thực hiện gặp lỗi chúng ta khó phát hiện ra lỗi chỗ nào để sửa. "
   ]
  },
  {
   "cell_type": "markdown",
   "metadata": {},
   "source": [
    "# Tài Liệu Tham Khảo\n",
    "\n",
    "1. Müller, A. C., & Guido, S. (2016). Introduction to machine learning with Python: a guide for data scientists. \"O'Reilly Media, Inc.\".\n",
    "\n",
    "2. Géron, A. (2019). Hands-on machine learning with Scikit-Learn and TensorFlow: concepts, tools, and techniques to build intelligent systems. \" O'Reilly Media, Inc.\".\n",
    "\n",
    "3. Shmueli, G., Bruce, P. C., Yahav, I., Patel, N. R., & Lichtendahl Jr, K. C. (2017). Data mining for business analytics: concepts, techniques, and applications in R. John Wiley & Sons."
   ]
  }
 ],
 "metadata": {
  "kernelspec": {
   "display_name": "Python 3",
   "language": "python",
   "name": "python3"
  },
  "language_info": {
   "codemirror_mode": {
    "name": "ipython",
    "version": 3
   },
   "file_extension": ".py",
   "mimetype": "text/x-python",
   "name": "python",
   "nbconvert_exporter": "python",
   "pygments_lexer": "ipython3",
   "version": "3.7.3"
  }
 },
 "nbformat": 4,
 "nbformat_minor": 2
}
